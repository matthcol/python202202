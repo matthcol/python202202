{
 "cells": [
  {
   "cell_type": "markdown",
   "metadata": {},
   "source": [
    "# Les fonctions"
   ]
  },
  {
   "cell_type": "code",
   "execution_count": 177,
   "metadata": {},
   "outputs": [],
   "source": [
    "import numpy as np\n",
    "import pandas as pd\n",
    "import matplotlib.pyplot as plt\n",
    "from queens import queens\n"
   ]
  },
  {
   "cell_type": "code",
   "execution_count": 1,
   "metadata": {},
   "outputs": [],
   "source": [
    "# fonction si l'operateur + est defini entre le type(x) et int\n",
    "def f(x):\n",
    "    return x+1"
   ]
  },
  {
   "cell_type": "code",
   "execution_count": 5,
   "metadata": {},
   "outputs": [
    {
     "data": {
      "text/plain": [
       "4"
      ]
     },
     "execution_count": 5,
     "metadata": {},
     "output_type": "execute_result"
    }
   ],
   "source": [
    "f(3)"
   ]
  },
  {
   "cell_type": "code",
   "execution_count": 4,
   "metadata": {},
   "outputs": [
    {
     "data": {
      "text/plain": [
       "[2, 3, 4]"
      ]
     },
     "execution_count": 4,
     "metadata": {},
     "output_type": "execute_result"
    }
   ],
   "source": [
    "list(map(f, [1,2,3]))"
   ]
  },
  {
   "cell_type": "code",
   "execution_count": 6,
   "metadata": {},
   "outputs": [],
   "source": [
    "# definition avec Hint\n",
    "def f(x: int)->int:\n",
    "    return x+1"
   ]
  },
  {
   "cell_type": "code",
   "execution_count": 7,
   "metadata": {},
   "outputs": [
    {
     "data": {
      "text/plain": [
       "4"
      ]
     },
     "execution_count": 7,
     "metadata": {},
     "output_type": "execute_result"
    }
   ],
   "source": [
    "# appel sur un entier\n",
    "f(3)"
   ]
  },
  {
   "cell_type": "code",
   "execution_count": 8,
   "metadata": {},
   "outputs": [
    {
     "data": {
      "text/plain": [
       "4.4"
      ]
     },
     "execution_count": 8,
     "metadata": {},
     "output_type": "execute_result"
    }
   ],
   "source": [
    "# appel sur un flottant\n",
    "f(3.4)"
   ]
  },
  {
   "cell_type": "code",
   "execution_count": 11,
   "metadata": {},
   "outputs": [],
   "source": [
    "# pd.read_csv?\n",
    "# pd.read_csv(\n",
    "#    filepath_or_buffer: Union[ForwardRef('PathLike[str]'), str, IO[~T], io.RawIOBase, io.BufferedIOBase, io.TextIOBase, _io.TextIOWrapper, mmap.mmap],\n",
    "    "
   ]
  },
  {
   "cell_type": "markdown",
   "metadata": {},
   "source": [
    "## gestion des arguments : positional vs keyword"
   ]
  },
  {
   "cell_type": "code",
   "execution_count": 13,
   "metadata": {},
   "outputs": [],
   "source": [
    "def g(x,y):\n",
    "    return x+y"
   ]
  },
  {
   "cell_type": "code",
   "execution_count": 15,
   "metadata": {},
   "outputs": [
    {
     "data": {
      "text/plain": [
       "7"
      ]
     },
     "execution_count": 15,
     "metadata": {},
     "output_type": "execute_result"
    }
   ],
   "source": [
    "# appel avec passage de paramètres par position\n",
    "g(3,4)"
   ]
  },
  {
   "cell_type": "code",
   "execution_count": 17,
   "metadata": {},
   "outputs": [
    {
     "data": {
      "text/plain": [
       "7"
      ]
     },
     "execution_count": 17,
     "metadata": {},
     "output_type": "execute_result"
    }
   ],
   "source": [
    "# appel avec passage de paramètres par keyword (mot clé)\n",
    "g(y=3, x=4)"
   ]
  },
  {
   "cell_type": "code",
   "execution_count": 18,
   "metadata": {},
   "outputs": [
    {
     "data": {
      "text/plain": [
       "8"
      ]
     },
     "execution_count": 18,
     "metadata": {},
     "output_type": "execute_result"
    }
   ],
   "source": [
    "# x par position, y par keyword\n",
    "g(3, y=5)"
   ]
  },
  {
   "cell_type": "code",
   "execution_count": 20,
   "metadata": {},
   "outputs": [],
   "source": [
    "# SyntaxError: positional argument follows keyword argument\n",
    "# g(y=5, 3)"
   ]
  },
  {
   "cell_type": "code",
   "execution_count": 21,
   "metadata": {},
   "outputs": [
    {
     "ename": "TypeError",
     "evalue": "g() missing 2 required positional arguments: 'x' and 'y'",
     "output_type": "error",
     "traceback": [
      "\u001b[1;31m---------------------------------------------------------------------------\u001b[0m",
      "\u001b[1;31mTypeError\u001b[0m                                 Traceback (most recent call last)",
      "\u001b[1;32m<ipython-input-21-5fd69ddb5074>\u001b[0m in \u001b[0;36m<module>\u001b[1;34m\u001b[0m\n\u001b[1;32m----> 1\u001b[1;33m \u001b[0mg\u001b[0m\u001b[1;33m(\u001b[0m\u001b[1;33m)\u001b[0m\u001b[1;33m\u001b[0m\u001b[1;33m\u001b[0m\u001b[0m\n\u001b[0m",
      "\u001b[1;31mTypeError\u001b[0m: g() missing 2 required positional arguments: 'x' and 'y'"
     ]
    }
   ],
   "source": [
    "g()"
   ]
  },
  {
   "cell_type": "code",
   "execution_count": 22,
   "metadata": {},
   "outputs": [
    {
     "ename": "TypeError",
     "evalue": "g() missing 1 required positional argument: 'y'",
     "output_type": "error",
     "traceback": [
      "\u001b[1;31m---------------------------------------------------------------------------\u001b[0m",
      "\u001b[1;31mTypeError\u001b[0m                                 Traceback (most recent call last)",
      "\u001b[1;32m<ipython-input-22-3580407364ae>\u001b[0m in \u001b[0;36m<module>\u001b[1;34m\u001b[0m\n\u001b[1;32m----> 1\u001b[1;33m \u001b[0mg\u001b[0m\u001b[1;33m(\u001b[0m\u001b[1;36m1\u001b[0m\u001b[1;33m)\u001b[0m\u001b[1;33m\u001b[0m\u001b[1;33m\u001b[0m\u001b[0m\n\u001b[0m",
      "\u001b[1;31mTypeError\u001b[0m: g() missing 1 required positional argument: 'y'"
     ]
    }
   ],
   "source": [
    "g(1)"
   ]
  },
  {
   "cell_type": "code",
   "execution_count": 23,
   "metadata": {},
   "outputs": [
    {
     "ename": "TypeError",
     "evalue": "g() missing 1 required positional argument: 'y'",
     "output_type": "error",
     "traceback": [
      "\u001b[1;31m---------------------------------------------------------------------------\u001b[0m",
      "\u001b[1;31mTypeError\u001b[0m                                 Traceback (most recent call last)",
      "\u001b[1;32m<ipython-input-23-2fcecadee467>\u001b[0m in \u001b[0;36m<module>\u001b[1;34m\u001b[0m\n\u001b[1;32m----> 1\u001b[1;33m \u001b[0mg\u001b[0m\u001b[1;33m(\u001b[0m\u001b[0mx\u001b[0m\u001b[1;33m=\u001b[0m\u001b[1;36m3\u001b[0m\u001b[1;33m)\u001b[0m\u001b[1;33m\u001b[0m\u001b[1;33m\u001b[0m\u001b[0m\n\u001b[0m",
      "\u001b[1;31mTypeError\u001b[0m: g() missing 1 required positional argument: 'y'"
     ]
    }
   ],
   "source": [
    "g(x=3)"
   ]
  },
  {
   "cell_type": "code",
   "execution_count": 24,
   "metadata": {},
   "outputs": [
    {
     "ename": "TypeError",
     "evalue": "g() takes 2 positional arguments but 3 were given",
     "output_type": "error",
     "traceback": [
      "\u001b[1;31m---------------------------------------------------------------------------\u001b[0m",
      "\u001b[1;31mTypeError\u001b[0m                                 Traceback (most recent call last)",
      "\u001b[1;32m<ipython-input-24-829d96d2f90d>\u001b[0m in \u001b[0;36m<module>\u001b[1;34m\u001b[0m\n\u001b[1;32m----> 1\u001b[1;33m \u001b[0mg\u001b[0m\u001b[1;33m(\u001b[0m\u001b[1;36m3\u001b[0m\u001b[1;33m,\u001b[0m\u001b[1;36m4\u001b[0m\u001b[1;33m,\u001b[0m\u001b[1;36m5\u001b[0m\u001b[1;33m)\u001b[0m\u001b[1;33m\u001b[0m\u001b[1;33m\u001b[0m\u001b[0m\n\u001b[0m",
      "\u001b[1;31mTypeError\u001b[0m: g() takes 2 positional arguments but 3 were given"
     ]
    }
   ],
   "source": [
    "g(3,4,5)"
   ]
  },
  {
   "cell_type": "code",
   "execution_count": 25,
   "metadata": {},
   "outputs": [
    {
     "ename": "TypeError",
     "evalue": "g() got an unexpected keyword argument 'z'",
     "output_type": "error",
     "traceback": [
      "\u001b[1;31m---------------------------------------------------------------------------\u001b[0m",
      "\u001b[1;31mTypeError\u001b[0m                                 Traceback (most recent call last)",
      "\u001b[1;32m<ipython-input-25-b0d896bd49e6>\u001b[0m in \u001b[0;36m<module>\u001b[1;34m\u001b[0m\n\u001b[1;32m----> 1\u001b[1;33m \u001b[0mg\u001b[0m\u001b[1;33m(\u001b[0m\u001b[1;36m3\u001b[0m\u001b[1;33m,\u001b[0m\u001b[1;36m4\u001b[0m\u001b[1;33m,\u001b[0m\u001b[0mz\u001b[0m\u001b[1;33m=\u001b[0m\u001b[1;36m3\u001b[0m\u001b[1;33m)\u001b[0m\u001b[1;33m\u001b[0m\u001b[1;33m\u001b[0m\u001b[0m\n\u001b[0m",
      "\u001b[1;31mTypeError\u001b[0m: g() got an unexpected keyword argument 'z'"
     ]
    }
   ],
   "source": [
    "g(3,4,z=3)"
   ]
  },
  {
   "cell_type": "markdown",
   "metadata": {},
   "source": [
    "fonction avec paramètre optionnel"
   ]
  },
  {
   "cell_type": "code",
   "execution_count": 30,
   "metadata": {},
   "outputs": [],
   "source": [
    "def h(w, x=0, y=[], label=None):\n",
    "    res =  w + x + sum(y)\n",
    "    if label is not None:\n",
    "        res = {label: res}\n",
    "    return res"
   ]
  },
  {
   "cell_type": "code",
   "execution_count": 31,
   "metadata": {},
   "outputs": [
    {
     "data": {
      "text/plain": [
       "1"
      ]
     },
     "execution_count": 31,
     "metadata": {},
     "output_type": "execute_result"
    }
   ],
   "source": [
    "h(1)"
   ]
  },
  {
   "cell_type": "code",
   "execution_count": 32,
   "metadata": {},
   "outputs": [
    {
     "data": {
      "text/plain": [
       "{'temperature': 1}"
      ]
     },
     "execution_count": 32,
     "metadata": {},
     "output_type": "execute_result"
    }
   ],
   "source": [
    "h(1, label='temperature')"
   ]
  },
  {
   "cell_type": "code",
   "execution_count": 33,
   "metadata": {},
   "outputs": [
    {
     "data": {
      "text/plain": [
       "{'stats': 19}"
      ]
     },
     "execution_count": 33,
     "metadata": {},
     "output_type": "execute_result"
    }
   ],
   "source": [
    "h(1, x=3, y=[4,5,6], label='stats')"
   ]
  },
  {
   "cell_type": "code",
   "execution_count": 34,
   "metadata": {},
   "outputs": [],
   "source": [
    "args = {'y':[4,5,7], 'label':'monday'}"
   ]
  },
  {
   "cell_type": "code",
   "execution_count": 35,
   "metadata": {},
   "outputs": [
    {
     "data": {
      "text/plain": [
       "{'monday': 17}"
      ]
     },
     "execution_count": 35,
     "metadata": {},
     "output_type": "execute_result"
    }
   ],
   "source": [
    "h(1, y=args['y'], label=args['label'])"
   ]
  },
  {
   "cell_type": "code",
   "execution_count": 36,
   "metadata": {},
   "outputs": [
    {
     "data": {
      "text/plain": [
       "{'monday': 17}"
      ]
     },
     "execution_count": 36,
     "metadata": {},
     "output_type": "execute_result"
    }
   ],
   "source": [
    "# unpack dict into keyword args\n",
    "h(1, **args)"
   ]
  },
  {
   "cell_type": "code",
   "execution_count": 39,
   "metadata": {},
   "outputs": [
    {
     "data": {
      "text/plain": [
       "{'monday': 20}"
      ]
     },
     "execution_count": 39,
     "metadata": {},
     "output_type": "execute_result"
    }
   ],
   "source": [
    "h(1, x=3, **args)"
   ]
  },
  {
   "cell_type": "code",
   "execution_count": 40,
   "metadata": {},
   "outputs": [
    {
     "data": {
      "text/plain": [
       "7"
      ]
     },
     "execution_count": 40,
     "metadata": {},
     "output_type": "execute_result"
    }
   ],
   "source": [
    "data = (3,4)\n",
    "g(data[0], data[1])"
   ]
  },
  {
   "cell_type": "code",
   "execution_count": 42,
   "metadata": {},
   "outputs": [
    {
     "data": {
      "text/plain": [
       "7"
      ]
     },
     "execution_count": 42,
     "metadata": {},
     "output_type": "execute_result"
    }
   ],
   "source": [
    "# unpack d'un tuple, liste, ... en positional arguments\n",
    "g(*data)"
   ]
  },
  {
   "cell_type": "code",
   "execution_count": 69,
   "metadata": {},
   "outputs": [],
   "source": [
    "# *args : positional arguments en nombre variable\n",
    "def plot(x,*args, scalex=True, scaley=True, data=None, **kwargs):\n",
    "    print(x)\n",
    "    print(args)\n",
    "    print(scalex)\n",
    "    print(scaley)\n",
    "    print(data)\n",
    "    print(kwargs)\n",
    "    res = x + sum(args) # args est iterable, homogène\n",
    "    # gestion de la couleur : exemple de traitement de keyword arg dans kwargs\n",
    "    color = 'black'\n",
    "    if 'color' in kwargs:\n",
    "        color = kwargs['color']\n",
    "    print(\"Result\",res, color)\n",
    "    print()\n",
    "    \n",
    "        "
   ]
  },
  {
   "cell_type": "code",
   "execution_count": 118,
   "metadata": {},
   "outputs": [
    {
     "name": "stdout",
     "output_type": "stream",
     "text": [
      "1\n",
      "()\n",
      "True\n",
      "True\n",
      "None\n",
      "{}\n",
      "Result 1 black\n",
      "\n",
      "1\n",
      "(2,)\n",
      "True\n",
      "True\n",
      "None\n",
      "{}\n",
      "Result 3 black\n",
      "\n",
      "1\n",
      "(2, 3, 4)\n",
      "True\n",
      "True\n",
      "None\n",
      "{}\n",
      "Result 10 black\n",
      "\n"
     ]
    },
    {
     "data": {
      "text/plain": [
       "(None, None, None)"
      ]
     },
     "execution_count": 118,
     "metadata": {},
     "output_type": "execute_result"
    }
   ],
   "source": [
    "plot(1), plot(1,2), plot(1,2,3,4)"
   ]
  },
  {
   "cell_type": "code",
   "execution_count": 71,
   "metadata": {},
   "outputs": [
    {
     "name": "stdout",
     "output_type": "stream",
     "text": [
      "1\n",
      "()\n",
      "True\n",
      "False\n",
      "None\n",
      "{}\n",
      "Result 1 black\n",
      "\n",
      "1\n",
      "()\n",
      "True\n",
      "False\n",
      "None\n",
      "{'color': 'red', 'title': 'Températures janvier'}\n",
      "Result 1 red\n",
      "\n"
     ]
    },
    {
     "data": {
      "text/plain": [
       "(None, None)"
      ]
     },
     "execution_count": 71,
     "metadata": {},
     "output_type": "execute_result"
    }
   ],
   "source": [
    "plot(1,scaley=False), plot(1,scaley=False,color='red', title=\"Températures janvier\")"
   ]
  },
  {
   "cell_type": "code",
   "execution_count": 75,
   "metadata": {},
   "outputs": [
    {
     "name": "stdout",
     "output_type": "stream",
     "text": [
      "1\n",
      "(2, 3, 4)\n",
      "True\n",
      "False\n",
      "None\n",
      "{'color': 'yellow'}\n",
      "Result 10 yellow\n",
      "\n"
     ]
    }
   ],
   "source": [
    "values = [1,2,3,4]\n",
    "params = {'scaley':False, 'color':'yellow'}\n",
    "plot(*values, **params)"
   ]
  },
  {
   "cell_type": "code",
   "execution_count": 66,
   "metadata": {},
   "outputs": [
    {
     "data": {
      "text/plain": [
       "[<matplotlib.lines.Line2D at 0x286f6e1f5b0>]"
      ]
     },
     "execution_count": 66,
     "metadata": {},
     "output_type": "execute_result"
    },
    {
     "data": {
      "image/png": "[encoded data removed]",
      "text/plain": [
       "<Figure size 432x288 with 1 Axes>"
      ]
     },
     "metadata": {
      "needs_background": "light"
     },
     "output_type": "display_data"
    }
   ],
   "source": [
    "# Signature: plt.plot(*args, scalex=True, scaley=True, data=None, **kwargs)\n",
    "plt.plot([1,2,3],color='red',marker='o')"
   ]
  },
  {
   "cell_type": "code",
   "execution_count": 58,
   "metadata": {},
   "outputs": [],
   "source": [
    "# zip?\n",
    "# print?"
   ]
  },
  {
   "cell_type": "code",
   "execution_count": 77,
   "metadata": {},
   "outputs": [
    {
     "data": {
      "text/plain": [
       "18"
      ]
     },
     "execution_count": 77,
     "metadata": {},
     "output_type": "execute_result"
    }
   ],
   "source": [
    "eval('3 + sum([4,5,6])')"
   ]
  },
  {
   "cell_type": "code",
   "execution_count": 87,
   "metadata": {},
   "outputs": [
    {
     "data": {
      "text/plain": [
       "array([[10.64155261, 18.51193432],\n",
       "       [14.00695231, 13.19486444]])"
      ]
     },
     "execution_count": 87,
     "metadata": {},
     "output_type": "execute_result"
    }
   ],
   "source": [
    "x = 12\n",
    "# type m1 : numpy.ndarray\n",
    "m1 = np.random.normal(10, 3, (2,2))\n",
    "m1"
   ]
  },
  {
   "cell_type": "code",
   "execution_count": 88,
   "metadata": {},
   "outputs": [
    {
     "data": {
      "text/plain": [
       "masked_array(\n",
       "  data=[[10.641552609519263, --],\n",
       "        [14.006952305817197, 13.194864443088981]],\n",
       "  mask=[[False,  True],\n",
       "        [False, False]],\n",
       "  fill_value=1e+20)"
      ]
     },
     "execution_count": 88,
     "metadata": {},
     "output_type": "execute_result"
    }
   ],
   "source": [
    "# ma1 of type numpy.ma.core.MaskedArray\n",
    "ma1 = np.ma.masked_greater(m1, 15)\n",
    "ma1"
   ]
  },
  {
   "cell_type": "code",
   "execution_count": 91,
   "metadata": {},
   "outputs": [
    {
     "data": {
      "text/plain": [
       "(True, True, True)"
      ]
     },
     "execution_count": 91,
     "metadata": {},
     "output_type": "execute_result"
    }
   ],
   "source": [
    "isinstance(x, int), \\\n",
    "isinstance(m1, np.ndarray), \\\n",
    "isinstance(ma1, np.ndarray)\n"
   ]
  },
  {
   "cell_type": "code",
   "execution_count": 92,
   "metadata": {},
   "outputs": [
    {
     "data": {
      "text/plain": [
       "True"
      ]
     },
     "execution_count": 92,
     "metadata": {},
     "output_type": "execute_result"
    }
   ],
   "source": [
    "issubclass(np.ma.MaskedArray, np.ndarray)"
   ]
  },
  {
   "cell_type": "code",
   "execution_count": 97,
   "metadata": {},
   "outputs": [
    {
     "data": {
      "text/plain": [
       "('lo', 'lo')"
      ]
     },
     "execution_count": 97,
     "metadata": {},
     "output_type": "execute_result"
    }
   ],
   "source": [
    "ville = \"Toulouse\"\n",
    "i,j = 3,5\n",
    "s = slice(3,5)\n",
    "ville[i:j], ville[s]"
   ]
  },
  {
   "cell_type": "code",
   "execution_count": 98,
   "metadata": {},
   "outputs": [
    {
     "data": {
      "text/plain": [
       "array([[13.19486444, 14.00695231]])"
      ]
     },
     "execution_count": 98,
     "metadata": {},
     "output_type": "execute_result"
    }
   ],
   "source": [
    "m1[1:,::-1]"
   ]
  },
  {
   "cell_type": "code",
   "execution_count": 107,
   "metadata": {},
   "outputs": [],
   "source": [
    "data = [3,5,7,-1]\n",
    "villes = (\"Barcelona\", \"Pamplona\", \"Sevilla\", \"Logroño\", \"Logrony\")"
   ]
  },
  {
   "cell_type": "code",
   "execution_count": 100,
   "metadata": {},
   "outputs": [
    {
     "data": {
      "text/plain": [
       "[-1, 3, 5, 7]"
      ]
     },
     "execution_count": 100,
     "metadata": {},
     "output_type": "execute_result"
    }
   ],
   "source": [
    "# built-in sorted  for an iterable\n",
    "# cost: nlog(n)\n",
    "data_sorted = sorted(data)\n",
    "data_sorted"
   ]
  },
  {
   "cell_type": "code",
   "execution_count": 108,
   "metadata": {},
   "outputs": [
    {
     "data": {
      "text/plain": [
       "['Barcelona', 'Logrony', 'Logroño', 'Pamplona', 'Sevilla']"
      ]
     },
     "execution_count": 108,
     "metadata": {},
     "output_type": "execute_result"
    }
   ],
   "source": [
    "villes_sorted = sorted(villes)\n",
    "villes_sorted"
   ]
  },
  {
   "cell_type": "code",
   "execution_count": 103,
   "metadata": {},
   "outputs": [
    {
     "data": {
      "text/plain": [
       "[-1, 3, 5, 7]"
      ]
     },
     "execution_count": 103,
     "metadata": {},
     "output_type": "execute_result"
    }
   ],
   "source": [
    "# in place sort du type list\n",
    "data.sort()\n",
    "data"
   ]
  },
  {
   "cell_type": "code",
   "execution_count": 109,
   "metadata": {},
   "outputs": [
    {
     "data": {
      "text/plain": [
       "['Sevilla', 'Pamplona', 'Logroño', 'Logrony', 'Barcelona']"
      ]
     },
     "execution_count": 109,
     "metadata": {},
     "output_type": "execute_result"
    }
   ],
   "source": [
    "sorted(villes, reverse=True)"
   ]
  },
  {
   "cell_type": "code",
   "execution_count": 111,
   "metadata": {},
   "outputs": [
    {
     "data": {
      "text/plain": [
       "['Barcelona', 'Logroño', 'Logrony', 'Pamplona', 'Sevilla']"
      ]
     },
     "execution_count": 111,
     "metadata": {},
     "output_type": "execute_result"
    }
   ],
   "source": [
    "sorted(villes, key=lambda v:(v[0],v[-1]))"
   ]
  },
  {
   "cell_type": "code",
   "execution_count": 112,
   "metadata": {},
   "outputs": [
    {
     "data": {
      "text/plain": [
       "True"
      ]
     },
     "execution_count": 112,
     "metadata": {},
     "output_type": "execute_result"
    }
   ],
   "source": [
    "# decision sur la 1ere composante\n",
    "('B','z') < ('L', 'a')"
   ]
  },
  {
   "cell_type": "code",
   "execution_count": 114,
   "metadata": {},
   "outputs": [
    {
     "data": {
      "text/plain": [
       "False"
      ]
     },
     "execution_count": 114,
     "metadata": {},
     "output_type": "execute_result"
    }
   ],
   "source": [
    "# decision sur la 2e composante\n",
    "('B','z') < ('B', 'a')"
   ]
  },
  {
   "cell_type": "code",
   "execution_count": 115,
   "metadata": {},
   "outputs": [
    {
     "data": {
      "text/plain": [
       "['Barcelona', 'Logrony', 'Logroño', 'Pamplona', 'Sevilla']"
      ]
     },
     "execution_count": 115,
     "metadata": {},
     "output_type": "execute_result"
    }
   ],
   "source": [
    "sorted(villes, key=str.casefold)"
   ]
  },
  {
   "cell_type": "code",
   "execution_count": 117,
   "metadata": {},
   "outputs": [
    {
     "data": {
      "text/plain": [
       "('barcelona', 'barcelona')"
      ]
     },
     "execution_count": 117,
     "metadata": {},
     "output_type": "execute_result"
    }
   ],
   "source": [
    "'Barcelona'.casefold(), \\\n",
    "str.casefold('Barcelona')"
   ]
  },
  {
   "cell_type": "markdown",
   "metadata": {},
   "source": [
    "Générateurs"
   ]
  },
  {
   "cell_type": "code",
   "execution_count": 125,
   "metadata": {},
   "outputs": [
    {
     "data": {
      "text/plain": [
       "<generator object <genexpr> at 0x00000286F6CD5C10>"
      ]
     },
     "execution_count": 125,
     "metadata": {},
     "output_type": "execute_result"
    }
   ],
   "source": [
    "g = (x+1 for x in m1)\n",
    "g"
   ]
  },
  {
   "cell_type": "code",
   "execution_count": 121,
   "metadata": {},
   "outputs": [
    {
     "data": {
      "text/plain": [
       "True"
      ]
     },
     "execution_count": 121,
     "metadata": {},
     "output_type": "execute_result"
    }
   ],
   "source": [
    "id(g) == id(iter(g))"
   ]
  },
  {
   "cell_type": "code",
   "execution_count": 126,
   "metadata": {},
   "outputs": [
    {
     "data": {
      "text/plain": [
       "array([11.64155261, 19.51193432])"
      ]
     },
     "execution_count": 126,
     "metadata": {},
     "output_type": "execute_result"
    }
   ],
   "source": [
    "next(g)"
   ]
  },
  {
   "cell_type": "code",
   "execution_count": 127,
   "metadata": {},
   "outputs": [],
   "source": [
    "def fibo_generator():\n",
    "    x = 0\n",
    "    y = 1\n",
    "    yield x\n",
    "    yield y\n",
    "    while True:\n",
    "        x, y = y, x + y\n",
    "        yield y\n",
    "    "
   ]
  },
  {
   "cell_type": "code",
   "execution_count": 128,
   "metadata": {},
   "outputs": [
    {
     "data": {
      "text/plain": [
       "<generator object fibo_generator at 0x00000286F6CD5CF0>"
      ]
     },
     "execution_count": 128,
     "metadata": {},
     "output_type": "execute_result"
    }
   ],
   "source": [
    "g = fibo_generator()\n",
    "g"
   ]
  },
  {
   "cell_type": "code",
   "execution_count": 170,
   "metadata": {},
   "outputs": [
    {
     "data": {
      "text/plain": [
       "[0, 1, 1, 2, 3, 5, 8, 13, 21, 34]"
      ]
     },
     "execution_count": 170,
     "metadata": {},
     "output_type": "execute_result"
    }
   ],
   "source": [
    "values = [ v for _, v in zip(range(10), fibo_generator()) ]\n",
    "values"
   ]
  },
  {
   "cell_type": "code",
   "execution_count": 171,
   "metadata": {},
   "outputs": [
    {
     "name": "stdout",
     "output_type": "stream",
     "text": [
      "0\n",
      "1\n",
      "1\n",
      "2\n",
      "3\n",
      "5\n",
      "8\n",
      "13\n",
      "21\n",
      "34\n"
     ]
    }
   ],
   "source": [
    "g = fibo_generator()\n",
    "for _ in range(10):\n",
    "    v = next(g)\n",
    "    print(v)"
   ]
  },
  {
   "cell_type": "code",
   "execution_count": 172,
   "metadata": {},
   "outputs": [],
   "source": [
    "def fibo_generator(limit=10):\n",
    "    x = 0\n",
    "    y = 1\n",
    "    if limit > 0:\n",
    "        yield x\n",
    "        if limit > 1:\n",
    "            yield y\n",
    "            for cpt in range(limit-2):\n",
    "                x, y = y, x + y\n",
    "                yield y"
   ]
  },
  {
   "cell_type": "code",
   "execution_count": 173,
   "metadata": {},
   "outputs": [
    {
     "data": {
      "text/plain": [
       "[0, 1, 1, 2, 3, 5, 8, 13, 21, 34]"
      ]
     },
     "execution_count": 173,
     "metadata": {},
     "output_type": "execute_result"
    }
   ],
   "source": [
    "list(fibo_generator())"
   ]
  },
  {
   "cell_type": "code",
   "execution_count": 174,
   "metadata": {},
   "outputs": [
    {
     "data": {
      "text/plain": [
       "[]"
      ]
     },
     "execution_count": 174,
     "metadata": {},
     "output_type": "execute_result"
    }
   ],
   "source": [
    "list(fibo_generator(limit=0))"
   ]
  },
  {
   "cell_type": "code",
   "execution_count": 175,
   "metadata": {},
   "outputs": [
    {
     "data": {
      "text/plain": [
       "[0]"
      ]
     },
     "execution_count": 175,
     "metadata": {},
     "output_type": "execute_result"
    }
   ],
   "source": [
    "list(fibo_generator(limit=1))"
   ]
  },
  {
   "cell_type": "code",
   "execution_count": 176,
   "metadata": {},
   "outputs": [
    {
     "data": {
      "text/plain": [
       "[0, 1]"
      ]
     },
     "execution_count": 176,
     "metadata": {},
     "output_type": "execute_result"
    }
   ],
   "source": [
    "list(fibo_generator(limit=2))"
   ]
  },
  {
   "cell_type": "code",
   "execution_count": 180,
   "metadata": {
    "collapsed": true,
    "jupyter": {
     "outputs_hidden": true
    }
   },
   "outputs": [
    {
     "name": "stdout",
     "output_type": "stream",
     "text": [
      "(0, 4, 7, 5, 2, 6, 1, 3)\n",
      "(0, 5, 7, 2, 6, 3, 1, 4)\n",
      "(0, 6, 3, 5, 7, 1, 4, 2)\n",
      "(0, 6, 4, 7, 1, 3, 5, 2)\n",
      "(1, 3, 5, 7, 2, 0, 6, 4)\n",
      "(1, 4, 6, 3, 0, 7, 5, 2)\n",
      "(1, 4, 6, 0, 2, 7, 5, 3)\n",
      "(1, 5, 0, 6, 3, 7, 2, 4)\n",
      "(1, 5, 7, 2, 0, 3, 6, 4)\n",
      "(1, 6, 2, 5, 7, 4, 0, 3)\n",
      "(1, 6, 4, 7, 0, 3, 5, 2)\n",
      "(1, 7, 5, 0, 2, 4, 6, 3)\n",
      "(2, 0, 6, 4, 7, 1, 3, 5)\n",
      "(2, 4, 1, 7, 0, 6, 3, 5)\n",
      "(2, 4, 1, 7, 5, 3, 6, 0)\n",
      "(2, 4, 6, 0, 3, 1, 7, 5)\n",
      "(2, 4, 7, 3, 0, 6, 1, 5)\n",
      "(2, 5, 3, 0, 7, 4, 6, 1)\n",
      "(2, 5, 3, 1, 7, 4, 6, 0)\n",
      "(2, 5, 1, 4, 7, 0, 6, 3)\n",
      "(2, 5, 1, 6, 4, 0, 7, 3)\n",
      "(2, 5, 1, 6, 0, 3, 7, 4)\n",
      "(2, 5, 7, 1, 3, 0, 6, 4)\n",
      "(2, 5, 7, 0, 4, 6, 1, 3)\n",
      "(2, 5, 7, 0, 3, 6, 4, 1)\n",
      "(2, 6, 1, 7, 4, 0, 3, 5)\n",
      "(2, 6, 1, 7, 5, 3, 0, 4)\n",
      "(2, 7, 3, 6, 0, 5, 1, 4)\n",
      "(3, 1, 4, 7, 5, 0, 2, 6)\n",
      "(3, 1, 6, 4, 0, 7, 5, 2)\n",
      "(3, 1, 6, 2, 5, 7, 0, 4)\n",
      "(3, 1, 6, 2, 5, 7, 4, 0)\n",
      "(3, 1, 7, 4, 6, 0, 2, 5)\n",
      "(3, 1, 7, 5, 0, 2, 4, 6)\n",
      "(3, 0, 4, 7, 5, 2, 6, 1)\n",
      "(3, 0, 4, 7, 1, 6, 2, 5)\n",
      "(3, 5, 0, 4, 1, 7, 2, 6)\n",
      "(3, 5, 7, 1, 6, 0, 2, 4)\n",
      "(3, 5, 7, 2, 0, 6, 4, 1)\n",
      "(3, 6, 2, 7, 1, 4, 0, 5)\n",
      "(3, 6, 0, 7, 4, 1, 5, 2)\n",
      "(3, 6, 4, 2, 0, 5, 7, 1)\n",
      "(3, 6, 4, 1, 5, 0, 2, 7)\n",
      "(3, 7, 0, 2, 5, 1, 6, 4)\n",
      "(3, 7, 0, 4, 6, 1, 5, 2)\n",
      "(3, 7, 4, 2, 0, 6, 1, 5)\n",
      "(4, 1, 3, 5, 7, 2, 0, 6)\n",
      "(4, 1, 3, 6, 2, 7, 5, 0)\n",
      "(4, 1, 5, 0, 6, 3, 7, 2)\n",
      "(4, 1, 7, 0, 3, 6, 2, 5)\n",
      "(4, 2, 0, 5, 7, 1, 3, 6)\n",
      "(4, 2, 0, 6, 1, 7, 5, 3)\n",
      "(4, 2, 7, 3, 6, 0, 5, 1)\n",
      "(4, 0, 3, 5, 7, 1, 6, 2)\n",
      "(4, 0, 7, 3, 1, 6, 2, 5)\n",
      "(4, 0, 7, 5, 2, 6, 1, 3)\n",
      "(4, 6, 3, 0, 2, 7, 5, 1)\n",
      "(4, 6, 0, 3, 1, 7, 5, 2)\n",
      "(4, 6, 0, 2, 7, 5, 3, 1)\n",
      "(4, 6, 1, 3, 7, 0, 2, 5)\n",
      "(4, 6, 1, 5, 2, 0, 3, 7)\n",
      "(4, 6, 1, 5, 2, 0, 7, 3)\n",
      "(4, 7, 3, 0, 2, 5, 1, 6)\n",
      "(4, 7, 3, 0, 6, 1, 5, 2)\n",
      "(5, 1, 6, 0, 3, 7, 4, 2)\n",
      "(5, 1, 6, 0, 2, 4, 7, 3)\n",
      "(5, 2, 4, 6, 0, 3, 1, 7)\n",
      "(5, 2, 4, 7, 0, 3, 1, 6)\n",
      "(5, 2, 0, 6, 4, 7, 1, 3)\n",
      "(5, 2, 0, 7, 4, 1, 3, 6)\n",
      "(5, 2, 0, 7, 3, 1, 6, 4)\n",
      "(5, 2, 6, 3, 0, 7, 1, 4)\n",
      "(5, 2, 6, 1, 3, 7, 0, 4)\n",
      "(5, 2, 6, 1, 7, 4, 0, 3)\n",
      "(5, 3, 1, 7, 4, 6, 0, 2)\n",
      "(5, 3, 0, 4, 7, 1, 6, 2)\n",
      "(5, 3, 6, 0, 2, 4, 1, 7)\n",
      "(5, 3, 6, 0, 7, 1, 4, 2)\n",
      "(5, 0, 4, 1, 7, 2, 6, 3)\n",
      "(5, 7, 1, 3, 0, 6, 4, 2)\n",
      "(6, 1, 3, 0, 7, 4, 2, 5)\n",
      "(6, 1, 5, 2, 0, 3, 7, 4)\n",
      "(6, 2, 0, 5, 7, 4, 1, 3)\n",
      "(6, 2, 7, 1, 4, 0, 5, 3)\n",
      "(6, 3, 1, 4, 7, 0, 2, 5)\n",
      "(6, 3, 1, 7, 5, 0, 2, 4)\n",
      "(6, 4, 2, 0, 5, 7, 1, 3)\n",
      "(6, 0, 2, 7, 5, 3, 1, 4)\n",
      "(7, 1, 3, 0, 6, 4, 2, 5)\n",
      "(7, 1, 4, 2, 0, 6, 3, 5)\n",
      "(7, 2, 0, 5, 1, 4, 6, 3)\n",
      "(7, 3, 0, 2, 5, 1, 6, 4)\n"
     ]
    }
   ],
   "source": [
    "for sol in queens(8):\n",
    "    print(sol)"
   ]
  },
  {
   "cell_type": "code",
   "execution_count": 184,
   "metadata": {},
   "outputs": [
    {
     "data": {
      "text/plain": [
       "([(0,)], [], [], [(1, 3, 0, 2), (2, 0, 3, 1)])"
      ]
     },
     "execution_count": 184,
     "metadata": {},
     "output_type": "execute_result"
    }
   ],
   "source": [
    "list(queens(1)), list(queens(2)), list(queens(3)), list(queens(4))"
   ]
  },
  {
   "cell_type": "code",
   "execution_count": null,
   "metadata": {},
   "outputs": [],
   "source": [
    "m1 + ?     m1.__add__ \n",
    "? + m1     m1.__radd__ avec ? qui ne sait additionner un ndarray\n",
    "m1 += ?    m1.__iadd__"
   ]
  },
  {
   "cell_type": "code",
   "execution_count": 186,
   "metadata": {},
   "outputs": [
    {
     "data": {
      "text/plain": [
       "  C_CONTIGUOUS : True\n",
       "  F_CONTIGUOUS : False\n",
       "  OWNDATA : True\n",
       "  WRITEABLE : True\n",
       "  ALIGNED : True\n",
       "  WRITEBACKIFCOPY : False\n",
       "  UPDATEIFCOPY : False"
      ]
     },
     "execution_count": 186,
     "metadata": {},
     "output_type": "execute_result"
    }
   ],
   "source": [
    "m1.flags"
   ]
  },
  {
   "cell_type": "code",
   "execution_count": 188,
   "metadata": {},
   "outputs": [
    {
     "data": {
      "text/plain": [
       "  C_CONTIGUOUS : False\n",
       "  F_CONTIGUOUS : False\n",
       "  OWNDATA : False\n",
       "  WRITEABLE : False\n",
       "  ALIGNED : True\n",
       "  WRITEBACKIFCOPY : False\n",
       "  UPDATEIFCOPY : False"
      ]
     },
     "execution_count": 188,
     "metadata": {},
     "output_type": "execute_result"
    }
   ],
   "source": [
    "m1.diagonal().flags"
   ]
  },
  {
   "cell_type": "code",
   "execution_count": 189,
   "metadata": {},
   "outputs": [
    {
     "data": {
      "text/plain": [
       "  C_CONTIGUOUS : False\n",
       "  F_CONTIGUOUS : True\n",
       "  OWNDATA : False\n",
       "  WRITEABLE : True\n",
       "  ALIGNED : True\n",
       "  WRITEBACKIFCOPY : False\n",
       "  UPDATEIFCOPY : False"
      ]
     },
     "execution_count": 189,
     "metadata": {},
     "output_type": "execute_result"
    }
   ],
   "source": [
    "m1.T.flags"
   ]
  }
 ],
 "metadata": {
  "kernelspec": {
   "display_name": "Python 3",
   "language": "python",
   "name": "python3"
  },
  "language_info": {
   "codemirror_mode": {
    "name": "ipython",
    "version": 3
   },
   "file_extension": ".py",
   "mimetype": "text/x-python",
   "name": "python",
   "nbconvert_exporter": "python",
   "pygments_lexer": "ipython3",
   "version": "3.8.5"
  }
 },
 "nbformat": 4,
 "nbformat_minor": 4
}
