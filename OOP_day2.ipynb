{
 "cells": [
  {
   "cell_type": "markdown",
   "metadata": {},
   "source": [
    "# OOP"
   ]
  },
  {
   "cell_type": "code",
   "execution_count": 195,
   "metadata": {},
   "outputs": [],
   "source": [
    "from typing import Tuple, Optional\n",
    "from functools import total_ordering"
   ]
  },
  {
   "cell_type": "markdown",
   "metadata": {},
   "source": [
    "## 1. classe par défaut"
   ]
  },
  {
   "cell_type": "code",
   "execution_count": 58,
   "metadata": {},
   "outputs": [],
   "source": [
    "class Match:\n",
    "    pass"
   ]
  },
  {
   "cell_type": "code",
   "execution_count": 59,
   "metadata": {},
   "outputs": [
    {
     "data": {
      "text/plain": [
       "<__main__.Match at 0x1a12fe24af0>"
      ]
     },
     "execution_count": 59,
     "metadata": {},
     "output_type": "execute_result"
    }
   ],
   "source": [
    "# default constructor offert\n",
    "# pas de mot clé new\n",
    "m1 = Match()\n",
    "m2 = Match()\n",
    "# appel de repr sur m1\n",
    "m1"
   ]
  },
  {
   "cell_type": "code",
   "execution_count": 60,
   "metadata": {},
   "outputs": [
    {
     "data": {
      "text/plain": [
       "111987795119"
      ]
     },
     "execution_count": 60,
     "metadata": {},
     "output_type": "execute_result"
    }
   ],
   "source": [
    "hash(m1)"
   ]
  },
  {
   "cell_type": "code",
   "execution_count": 4,
   "metadata": {},
   "outputs": [
    {
     "data": {
      "text/plain": [
       "'<__main__.Match object at 0x000001A12F9B75B0>'"
      ]
     },
     "execution_count": 4,
     "metadata": {},
     "output_type": "execute_result"
    }
   ],
   "source": [
    "# appel m1.__repr__\n",
    "repr(m1)"
   ]
  },
  {
   "cell_type": "code",
   "execution_count": 8,
   "metadata": {},
   "outputs": [
    {
     "name": "stdout",
     "output_type": "stream",
     "text": [
      "un objet match <__main__.Match object at 0x000001A12F9B7700>\n",
      "<__main__.Match object at 0x000001A12F9B7700>\n"
     ]
    }
   ],
   "source": [
    "# appel str sur m1\n",
    "print(f\"un objet match {m1}\")\n",
    "print(m1)"
   ]
  },
  {
   "cell_type": "code",
   "execution_count": 5,
   "metadata": {},
   "outputs": [
    {
     "data": {
      "text/plain": [
       "'<__main__.Match object at 0x000001A12F9B75B0>'"
      ]
     },
     "execution_count": 5,
     "metadata": {},
     "output_type": "execute_result"
    }
   ],
   "source": [
    "# appel m1.__str__\n",
    "str(m1)"
   ]
  },
  {
   "cell_type": "code",
   "execution_count": 10,
   "metadata": {},
   "outputs": [
    {
     "data": {
      "text/plain": [
       "__main__.Match"
      ]
     },
     "execution_count": 10,
     "metadata": {},
     "output_type": "execute_result"
    }
   ],
   "source": [
    "m1.__class__"
   ]
  },
  {
   "cell_type": "code",
   "execution_count": null,
   "metadata": {},
   "outputs": [],
   "source": [
    "m1.__str__"
   ]
  },
  {
   "cell_type": "code",
   "execution_count": 13,
   "metadata": {},
   "outputs": [
    {
     "data": {
      "text/plain": [
       "(False, True, True, False)"
      ]
     },
     "execution_count": 13,
     "metadata": {},
     "output_type": "execute_result"
    }
   ],
   "source": [
    "# implementation offertes : __eq__, __ne_\n",
    "m1 == m2, m1 == m1, m1 != m2, m1 != m1"
   ]
  },
  {
   "cell_type": "code",
   "execution_count": 17,
   "metadata": {},
   "outputs": [],
   "source": [
    "# implementation offertes  mais renvoient NotImplemented : __lt__, __le__, __gt__, __ge__\n",
    "# TypeError: '<' not supported between instances of 'Match' and 'Match'\n",
    "# m1 < m2"
   ]
  },
  {
   "cell_type": "code",
   "execution_count": 21,
   "metadata": {},
   "outputs": [],
   "source": [
    "# par defaut, pas de notion de len, iter(able), next (iterator)\n",
    "# len(m1), \\\n",
    "# iter(m1), \\\n",
    "# next(m1)\n"
   ]
  },
  {
   "cell_type": "markdown",
   "metadata": {},
   "source": [
    "## 2. classe avec du contenu"
   ]
  },
  {
   "cell_type": "code",
   "execution_count": 196,
   "metadata": {},
   "outputs": [],
   "source": [
    "@total_ordering\n",
    "class Match:\n",
    "    \n",
    "    # constructeur\n",
    "    def __init__(self, equipe1: str, equipe2: str, score: Tuple[int,int] =(0,0)):\n",
    "        self.equipe1 = equipe1\n",
    "        self.equipe2 = equipe2\n",
    "        self.score = score\n",
    "        \n",
    "    # override de __repr__ (et __str__ si __str__ non redefini)\n",
    "    def __repr__(self):\n",
    "        return f\"<Match {self.equipe1} - {self.equipe2} {self.score}>\"\n",
    "    \n",
    "    # override de __str__\n",
    "    def __str__(self):\n",
    "        return f\"{self.equipe1} - {self.equipe2} {self.score}\"\n",
    "    \n",
    "    # implementation de == et != par deduction\n",
    "    def __eq__(self, other):\n",
    "        if not isinstance(other, Match):\n",
    "            return NotImplemented\n",
    "        return (self.equipe1, self.equipe2, self.score) == (other.equipe1, other.equipe2, other.score) \n",
    "    \n",
    "    # implementation du hashcode en coherence avec l'==\n",
    "    def __hash__(self):\n",
    "        return hash((self.equipe1, self.equipe2, self.score))\n",
    "    \n",
    "    # implementation de < (=> > puis <= et >= si @total_ordering)\n",
    "    def __lt__(self, other):\n",
    "        if not isinstance(other, Match):\n",
    "            return NotImplemented\n",
    "        return (self.score[0]+self.score[1], self.equipe1, self.equipe2) < (other.score[0]+other.score[1], other.equipe1, other.equipe2)\n",
    "    \n",
    "    def marque1(self):\n",
    "        self.score = (self.score[0]+1, self.score[1])\n",
    "        \n",
    "    def marque2(self):\n",
    "        self.score = (self.score[0], self.score[1]+1)\n",
    "        \n",
    "    def vainqueur(self):\n",
    "        if self.score[0] == self.score[1]:\n",
    "            return None\n",
    "        return self.equipe1 if self.score[0] > self.score[1] else self.equipe2\n",
    "    \n",
    "    def nombreBut(self, numEquipe):\n",
    "        return self.score[numEquipe-1]\n",
    "        \n",
    "    \n",
    "#     equipe1\n",
    "#     equipe2\n",
    "#     score\n",
    "    \n",
    "    "
   ]
  },
  {
   "cell_type": "code",
   "execution_count": null,
   "metadata": {},
   "outputs": [],
   "source": []
  },
  {
   "cell_type": "code",
   "execution_count": 197,
   "metadata": {},
   "outputs": [],
   "source": [
    "m1 = Match(\"Barcelona\", \"PSG\", (6,1))\n",
    "m2 = Match(\"Liverpool\", \"Bayern Munich\")"
   ]
  },
  {
   "cell_type": "code",
   "execution_count": 198,
   "metadata": {},
   "outputs": [
    {
     "data": {
      "text/plain": [
       "\u001b[1;31mInit signature:\u001b[0m \u001b[0mMatch\u001b[0m\u001b[1;33m(\u001b[0m\u001b[0mequipe1\u001b[0m\u001b[1;33m:\u001b[0m \u001b[0mstr\u001b[0m\u001b[1;33m,\u001b[0m \u001b[0mequipe2\u001b[0m\u001b[1;33m:\u001b[0m \u001b[0mstr\u001b[0m\u001b[1;33m,\u001b[0m \u001b[0mscore\u001b[0m\u001b[1;33m:\u001b[0m \u001b[0mTuple\u001b[0m\u001b[1;33m[\u001b[0m\u001b[0mint\u001b[0m\u001b[1;33m,\u001b[0m \u001b[0mint\u001b[0m\u001b[1;33m]\u001b[0m \u001b[1;33m=\u001b[0m \u001b[1;33m(\u001b[0m\u001b[1;36m0\u001b[0m\u001b[1;33m,\u001b[0m \u001b[1;36m0\u001b[0m\u001b[1;33m)\u001b[0m\u001b[1;33m)\u001b[0m\u001b[1;33m\u001b[0m\u001b[1;33m\u001b[0m\u001b[0m\n",
       "\u001b[1;31mDocstring:\u001b[0m      <no docstring>\n",
       "\u001b[1;31mType:\u001b[0m           type\n",
       "\u001b[1;31mSubclasses:\u001b[0m     \n"
      ]
     },
     "metadata": {},
     "output_type": "display_data"
    }
   ],
   "source": [
    "Match?"
   ]
  },
  {
   "cell_type": "code",
   "execution_count": 199,
   "metadata": {},
   "outputs": [
    {
     "name": "stdout",
     "output_type": "stream",
     "text": [
      "Barcelona\n",
      "PSG\n",
      "(6, 1)\n",
      "Barcelona - PSG (6, 1)\n"
     ]
    },
    {
     "data": {
      "text/plain": [
       "<Match Barcelona - PSG (6, 1)>"
      ]
     },
     "execution_count": 199,
     "metadata": {},
     "output_type": "execute_result"
    }
   ],
   "source": [
    "print(m1.equipe1)\n",
    "print(m1.equipe2)\n",
    "print(m1.score)\n",
    "print(m1)\n",
    "m1"
   ]
  },
  {
   "cell_type": "code",
   "execution_count": 200,
   "metadata": {},
   "outputs": [
    {
     "name": "stdout",
     "output_type": "stream",
     "text": [
      "Liverpool\n",
      "Bayern Munich\n",
      "(0, 0)\n",
      "Liverpool - Bayern Munich (0, 0)\n"
     ]
    },
    {
     "data": {
      "text/plain": [
       "<Match Liverpool - Bayern Munich (0, 0)>"
      ]
     },
     "execution_count": 200,
     "metadata": {},
     "output_type": "execute_result"
    }
   ],
   "source": [
    "print(m2.equipe1)\n",
    "print(m2.equipe2)\n",
    "print(m2.score)\n",
    "print(m2)\n",
    "m2"
   ]
  },
  {
   "cell_type": "code",
   "execution_count": 201,
   "metadata": {},
   "outputs": [
    {
     "name": "stdout",
     "output_type": "stream",
     "text": [
      "(3, 0)\n"
     ]
    }
   ],
   "source": [
    "m2.score = (3,0)\n",
    "print(m2.score)"
   ]
  },
  {
   "cell_type": "code",
   "execution_count": 202,
   "metadata": {},
   "outputs": [
    {
     "data": {
      "text/plain": [
       "(False, True, True, False, False)"
      ]
     },
     "execution_count": 202,
     "metadata": {},
     "output_type": "execute_result"
    }
   ],
   "source": [
    "# implementation offertes : __eq__, __ne_\n",
    "m1 == m2, m1 == m1, m1 != m2, m1 != m1, m1 == 1"
   ]
  },
  {
   "cell_type": "code",
   "execution_count": 203,
   "metadata": {},
   "outputs": [
    {
     "data": {
      "text/plain": [
       "(True, False)"
      ]
     },
     "execution_count": 203,
     "metadata": {},
     "output_type": "execute_result"
    }
   ],
   "source": [
    "m3 = Match(\"Barcelona\",\"PSG\",(6,1))\n",
    "m3 == m1, m3 != m1"
   ]
  },
  {
   "cell_type": "code",
   "execution_count": 204,
   "metadata": {},
   "outputs": [
    {
     "name": "stdout",
     "output_type": "stream",
     "text": [
      "-2505481740883883150\n",
      "-2505481740883883150\n"
     ]
    }
   ],
   "source": [
    "# hash desactivé des que __eq__ est defini\n",
    "# TypeError: unhashable type: 'Match'\n",
    "print(hash(m1))\n",
    "print(hash(m3))\n"
   ]
  },
  {
   "cell_type": "code",
   "execution_count": 205,
   "metadata": {},
   "outputs": [
    {
     "name": "stdout",
     "output_type": "stream",
     "text": [
      "[<Match Barcelona - PSG (6, 1)>, <Match Liverpool - Bayern Munich (3, 0)>]\n"
     ]
    },
    {
     "data": {
      "text/plain": [
       "[<Match Barcelona - PSG (6, 1)>, <Match Liverpool - Bayern Munich (3, 0)>]"
      ]
     },
     "execution_count": 205,
     "metadata": {},
     "output_type": "execute_result"
    }
   ],
   "source": [
    "l = [m1, m2 ]\n",
    "print(l)\n",
    "l"
   ]
  },
  {
   "cell_type": "code",
   "execution_count": 206,
   "metadata": {},
   "outputs": [
    {
     "data": {
      "text/plain": [
       "True"
      ]
     },
     "execution_count": 206,
     "metadata": {},
     "output_type": "execute_result"
    }
   ],
   "source": [
    "# TypeError: unhashable type: 'Match'\n",
    "s = { m1, m2}\n",
    "m3 in s"
   ]
  },
  {
   "cell_type": "code",
   "execution_count": 207,
   "metadata": {},
   "outputs": [
    {
     "data": {
      "text/plain": [
       "{<Match Liverpool - Bayern Munich (3, 0)>, <Match Barcelona - PSG (6, 1)>}"
      ]
     },
     "execution_count": 207,
     "metadata": {},
     "output_type": "execute_result"
    }
   ],
   "source": [
    "s.add(m3)\n",
    "s"
   ]
  },
  {
   "cell_type": "code",
   "execution_count": 208,
   "metadata": {},
   "outputs": [
    {
     "data": {
      "text/plain": [
       "<Match Barcelona - PSG (6, 1)>"
      ]
     },
     "execution_count": 208,
     "metadata": {},
     "output_type": "execute_result"
    }
   ],
   "source": [
    "# copie de reference\n",
    "m4 = m1\n",
    "m4"
   ]
  },
  {
   "cell_type": "code",
   "execution_count": 209,
   "metadata": {},
   "outputs": [
    {
     "name": "stdout",
     "output_type": "stream",
     "text": [
      "1791811036784 1791811036784\n"
     ]
    },
    {
     "data": {
      "text/plain": [
       "True"
      ]
     },
     "execution_count": 209,
     "metadata": {},
     "output_type": "execute_result"
    }
   ],
   "source": [
    "print(id(m1), id(m4))\n",
    "m4 is m1"
   ]
  },
  {
   "cell_type": "code",
   "execution_count": 210,
   "metadata": {},
   "outputs": [],
   "source": [
    "for i in range(6):\n",
    "    m2.marque1()"
   ]
  },
  {
   "cell_type": "code",
   "execution_count": 211,
   "metadata": {},
   "outputs": [
    {
     "data": {
      "text/plain": [
       "<Match Liverpool - Bayern Munich (9, 0)>"
      ]
     },
     "execution_count": 211,
     "metadata": {},
     "output_type": "execute_result"
    }
   ],
   "source": [
    "m2"
   ]
  },
  {
   "cell_type": "code",
   "execution_count": 212,
   "metadata": {},
   "outputs": [
    {
     "name": "stdout",
     "output_type": "stream",
     "text": [
      "Liverpool\n",
      "9\n",
      "1\n"
     ]
    }
   ],
   "source": [
    "m2.marque2()\n",
    "print(m2.vainqueur())\n",
    "print(m2.nombreBut(1))\n",
    "print(m2.nombreBut(2))"
   ]
  },
  {
   "cell_type": "code",
   "execution_count": 213,
   "metadata": {},
   "outputs": [
    {
     "data": {
      "text/plain": [
       "True"
      ]
     },
     "execution_count": 213,
     "metadata": {},
     "output_type": "execute_result"
    }
   ],
   "source": [
    "m1 < m2"
   ]
  },
  {
   "cell_type": "code",
   "execution_count": 214,
   "metadata": {},
   "outputs": [
    {
     "data": {
      "text/plain": [
       "False"
      ]
     },
     "execution_count": 214,
     "metadata": {},
     "output_type": "execute_result"
    }
   ],
   "source": [
    "m1 > m2"
   ]
  },
  {
   "cell_type": "code",
   "execution_count": 215,
   "metadata": {},
   "outputs": [
    {
     "data": {
      "text/plain": [
       "True"
      ]
     },
     "execution_count": 215,
     "metadata": {},
     "output_type": "execute_result"
    }
   ],
   "source": [
    "m1 <= m2"
   ]
  },
  {
   "cell_type": "code",
   "execution_count": 216,
   "metadata": {},
   "outputs": [
    {
     "data": {
      "text/plain": [
       "(False, False, True)"
      ]
     },
     "execution_count": 216,
     "metadata": {},
     "output_type": "execute_result"
    }
   ],
   "source": [
    "m1 < m1, m1 > m1, m1 <= m1"
   ]
  },
  {
   "cell_type": "code",
   "execution_count": 225,
   "metadata": {},
   "outputs": [],
   "source": [
    "championnat = [\n",
    "    Match(\"Barcelona\", \"Bilbao\", (3,1)),\n",
    "    Match(\"Barcelona\", \"Madrid\", (2,1)),\n",
    "    Match(\"Madrid\", \"Barcelona\", (2,1)),\n",
    "    Match(\"Madrid\", \"Zaragoza\", (3,0)),\n",
    "    Match(\"Barcelona\", \"Madrid\", (3,0)),\n",
    "]"
   ]
  },
  {
   "cell_type": "code",
   "execution_count": 227,
   "metadata": {},
   "outputs": [
    {
     "data": {
      "text/plain": [
       "[<Match Barcelona - Madrid (2, 1)>,\n",
       " <Match Barcelona - Madrid (3, 0)>,\n",
       " <Match Madrid - Barcelona (2, 1)>,\n",
       " <Match Madrid - Zaragoza (3, 0)>,\n",
       " <Match Barcelona - Bilbao (3, 1)>]"
      ]
     },
     "execution_count": 227,
     "metadata": {},
     "output_type": "execute_result"
    }
   ],
   "source": [
    "res = sorted(championnat)\n",
    "res"
   ]
  },
  {
   "cell_type": "code",
   "execution_count": 228,
   "metadata": {},
   "outputs": [
    {
     "data": {
      "text/plain": [
       "[<Match Barcelona - Bilbao (3, 1)>,\n",
       " <Match Madrid - Zaragoza (3, 0)>,\n",
       " <Match Madrid - Barcelona (2, 1)>,\n",
       " <Match Barcelona - Madrid (2, 1)>,\n",
       " <Match Barcelona - Madrid (3, 0)>]"
      ]
     },
     "execution_count": 228,
     "metadata": {},
     "output_type": "execute_result"
    }
   ],
   "source": [
    "res = sorted(championnat, reverse=True)\n",
    "res"
   ]
  },
  {
   "cell_type": "code",
   "execution_count": 229,
   "metadata": {},
   "outputs": [
    {
     "data": {
      "text/plain": [
       "[<Match Barcelona - Bilbao (3, 1)>,\n",
       " <Match Barcelona - Madrid (2, 1)>,\n",
       " <Match Barcelona - Madrid (3, 0)>,\n",
       " <Match Madrid - Barcelona (2, 1)>,\n",
       " <Match Madrid - Zaragoza (3, 0)>]"
      ]
     },
     "execution_count": 229,
     "metadata": {},
     "output_type": "execute_result"
    }
   ],
   "source": [
    "res = sorted(championnat, key=lambda m: (m.equipe1, m.equipe2))\n",
    "res"
   ]
  },
  {
   "cell_type": "code",
   "execution_count": 230,
   "metadata": {},
   "outputs": [
    {
     "data": {
      "text/plain": [
       "\u001b[1;31mSignature:\u001b[0m \u001b[0msorted\u001b[0m\u001b[1;33m(\u001b[0m\u001b[0miterable\u001b[0m\u001b[1;33m,\u001b[0m \u001b[1;33m/\u001b[0m\u001b[1;33m,\u001b[0m \u001b[1;33m*\u001b[0m\u001b[1;33m,\u001b[0m \u001b[0mkey\u001b[0m\u001b[1;33m=\u001b[0m\u001b[1;32mNone\u001b[0m\u001b[1;33m,\u001b[0m \u001b[0mreverse\u001b[0m\u001b[1;33m=\u001b[0m\u001b[1;32mFalse\u001b[0m\u001b[1;33m)\u001b[0m\u001b[1;33m\u001b[0m\u001b[1;33m\u001b[0m\u001b[0m\n",
       "\u001b[1;31mDocstring:\u001b[0m\n",
       "Return a new list containing all items from the iterable in ascending order.\n",
       "\n",
       "A custom key function can be supplied to customize the sort order, and the\n",
       "reverse flag can be set to request the result in descending order.\n",
       "\u001b[1;31mType:\u001b[0m      builtin_function_or_method\n"
      ]
     },
     "metadata": {},
     "output_type": "display_data"
    }
   ],
   "source": [
    "sorted?"
   ]
  }
 ],
 "metadata": {
  "kernelspec": {
   "display_name": "Python 3",
   "language": "python",
   "name": "python3"
  },
  "language_info": {
   "codemirror_mode": {
    "name": "ipython",
    "version": 3
   },
   "file_extension": ".py",
   "mimetype": "text/x-python",
   "name": "python",
   "nbconvert_exporter": "python",
   "pygments_lexer": "ipython3",
   "version": "3.8.5"
  }
 },
 "nbformat": 4,
 "nbformat_minor": 4
}
