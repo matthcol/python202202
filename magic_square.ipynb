{
 "cells": [
  {
   "cell_type": "markdown",
   "metadata": {},
   "source": [
    "# Magic Squares\n",
    "[https://fr.wikipedia.org/wiki/Carr%C3%A9_magique_(math%C3%A9matiques)](Wikipedia)"
   ]
  },
  {
   "cell_type": "code",
   "execution_count": 6,
   "metadata": {},
   "outputs": [],
   "source": [
    "square_ok = [\n",
    "    [2,7,6],\n",
    "    [9,5,1],\n",
    "    [4,3,8]\n",
    "]\n",
    "square_line_nok = [\n",
    "    [2,3,6],\n",
    "    [9,5,1],\n",
    "    [4,7,8]\n",
    "]\n",
    "square_col_nok = [\n",
    "    [2,7,6],\n",
    "    [1,5,9],\n",
    "    [4,3,8]\n",
    "]\n",
    "square_diag_nok = [\n",
    "    [9,5,1],\n",
    "    [2,7,6],\n",
    "    [4,3,8]\n",
    "]"
   ]
  },
  {
   "cell_type": "code",
   "execution_count": 14,
   "metadata": {},
   "outputs": [],
   "source": [
    "def check_magic(square):\n",
    "    n = len(square)\n",
    "    magic_sum = n * (n**2 + 1) // 2\n",
    "    res = (\n",
    "        # check lines\n",
    "        all(sum(l)  == magic_sum for l in square) \n",
    "        # check columns\n",
    "        and all(sum(square[i][j] for i in range(n)) == magic_sum for j in range(n)) \n",
    "        # check diagionals\n",
    "        and sum(square[i][i] for i in range(n)) == magic_sum \n",
    "        and sum(square[i][-i-1] for i in range(n)) == magic_sum\n",
    "        # check only once each v in [1..n^2]\n",
    "    )\n",
    "    return res"
   ]
  },
  {
   "cell_type": "code",
   "execution_count": 13,
   "metadata": {},
   "outputs": [],
   "source": [
    "assert check_magic(square_ok) == True\n",
    "assert check_magic(square_line_nok) == False\n",
    "assert check_magic(square_col_nok) == False\n",
    "assert check_magic(square_diag_nok) == False"
   ]
  }
 ],
 "metadata": {
  "kernelspec": {
   "display_name": "Python 3",
   "language": "python",
   "name": "python3"
  },
  "language_info": {
   "codemirror_mode": {
    "name": "ipython",
    "version": 3
   },
   "file_extension": ".py",
   "mimetype": "text/x-python",
   "name": "python",
   "nbconvert_exporter": "python",
   "pygments_lexer": "ipython3",
   "version": "3.8.5"
  }
 },
 "nbformat": 4,
 "nbformat_minor": 4
}
